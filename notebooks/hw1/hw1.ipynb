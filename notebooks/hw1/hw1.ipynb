{
 "cells": [
  {
   "cell_type": "markdown",
   "id": "3dc73fc5-774c-4d08-9190-67acb2245b9c",
   "metadata": {},
   "source": [
    "## Q1. Pandas version\n"
   ]
  },
  {
   "cell_type": "markdown",
   "id": "2b304cc4-8851-4d46-b6b3-7535ce16f10d",
   "metadata": {},
   "source": [
    "What version of Pandas did you install?\n",
    "\n",
    "You can get the version information using the __version__ field:\n"
   ]
  },
  {
   "cell_type": "code",
   "execution_count": 1,
   "id": "a2ff850d-280a-4e7e-8c7a-843cd5820955",
   "metadata": {},
   "outputs": [
    {
     "data": {
      "text/plain": [
       "'2.3.3'"
      ]
     },
     "execution_count": 1,
     "metadata": {},
     "output_type": "execute_result"
    }
   ],
   "source": [
    "import pandas as pd\n",
    "pd.__version__"
   ]
  },
  {
   "cell_type": "markdown",
   "id": "83f2d3bd-8682-4d8d-93a2-3da3bf7d046b",
   "metadata": {},
   "source": [
    "\n",
    "Getting the data\n",
    "For this homework, we'll use the Car Fuel Efficiency dataset. Download it from here.\n",
    "\n",
    "You can do it with wget:\n"
   ]
  },
  {
   "cell_type": "code",
   "execution_count": 2,
   "id": "833a4158-c6fc-4010-8c15-1f43dc751719",
   "metadata": {},
   "outputs": [
    {
     "name": "stdout",
     "output_type": "stream",
     "text": [
      "--2025-09-30 04:54:36--  https://raw.githubusercontent.com/alexeygrigorev/datasets/master/car_fuel_efficiency.csv\n",
      "Resolving raw.githubusercontent.com (raw.githubusercontent.com)... 185.199.111.133, 185.199.108.133, 185.199.109.133, ...\n",
      "Connecting to raw.githubusercontent.com (raw.githubusercontent.com)|185.199.111.133|:443... connected.\n",
      "HTTP request sent, awaiting response... 200 OK\n",
      "Length: 874188 (854K) [text/plain]\n",
      "Saving to: ‘car_fuel_efficiency.csv’\n",
      "\n",
      "car_fuel_efficiency 100%[===================>] 853.70K  3.28MB/s    in 0.3s    \n",
      "\n",
      "2025-09-30 04:54:36 (3.28 MB/s) - ‘car_fuel_efficiency.csv’ saved [874188/874188]\n",
      "\n"
     ]
    }
   ],
   "source": [
    "!wget https://raw.githubusercontent.com/alexeygrigorev/datasets/master/car_fuel_efficiency.csv"
   ]
  },
  {
   "cell_type": "markdown",
   "id": "0568d087-11c2-42a3-a730-d32637903799",
   "metadata": {},
   "source": [
    "\n",
    "\n",
    "\n",
    "Or just open it with your browser and click \"Save as...\".\n",
    "\n",
    "Now read it with Pandas."
   ]
  },
  {
   "cell_type": "markdown",
   "id": "eacb2dd3-77b6-461e-86c1-ab2a640348d3",
   "metadata": {},
   "source": [
    "## Q2. Records count\n"
   ]
  },
  {
   "cell_type": "markdown",
   "id": "4dd96922-be7d-49f5-8c82-a1382fd84cf4",
   "metadata": {},
   "source": [
    "How many records are in the dataset?\n",
    "\n"
   ]
  },
  {
   "cell_type": "code",
   "execution_count": 3,
   "id": "6f8b88f9-c19f-437d-9806-cef7f6027607",
   "metadata": {},
   "outputs": [],
   "source": [
    "df = pd.read_csv(\"car_fuel_efficiency.csv\")\n"
   ]
  },
  {
   "cell_type": "code",
   "execution_count": 4,
   "id": "d2072782-5e4e-487e-a89b-7ea7ec95d0b8",
   "metadata": {},
   "outputs": [
    {
     "name": "stdout",
     "output_type": "stream",
     "text": [
      "(9704, 11)\n"
     ]
    }
   ],
   "source": [
    "print(df.shape)"
   ]
  },
  {
   "cell_type": "markdown",
   "id": "95de3ec9-3a31-480b-959e-b7b297ea2ddd",
   "metadata": {},
   "source": [
    "## Q3. Fuel types\n"
   ]
  },
  {
   "cell_type": "markdown",
   "id": "cda1ed34-ce38-4425-8530-576d24a210bd",
   "metadata": {},
   "source": [
    "How many fuel types are presented in the dataset?"
   ]
  },
  {
   "cell_type": "code",
   "execution_count": 5,
   "id": "5d992fbc-d45c-4ce3-b2d5-9ea0c7fa98c3",
   "metadata": {},
   "outputs": [
    {
     "data": {
      "text/html": [
       "<div>\n",
       "<style scoped>\n",
       "    .dataframe tbody tr th:only-of-type {\n",
       "        vertical-align: middle;\n",
       "    }\n",
       "\n",
       "    .dataframe tbody tr th {\n",
       "        vertical-align: top;\n",
       "    }\n",
       "\n",
       "    .dataframe thead th {\n",
       "        text-align: right;\n",
       "    }\n",
       "</style>\n",
       "<table border=\"1\" class=\"dataframe\">\n",
       "  <thead>\n",
       "    <tr style=\"text-align: right;\">\n",
       "      <th></th>\n",
       "      <th>engine_displacement</th>\n",
       "      <th>num_cylinders</th>\n",
       "      <th>horsepower</th>\n",
       "      <th>vehicle_weight</th>\n",
       "      <th>acceleration</th>\n",
       "      <th>model_year</th>\n",
       "      <th>origin</th>\n",
       "      <th>fuel_type</th>\n",
       "      <th>drivetrain</th>\n",
       "      <th>num_doors</th>\n",
       "      <th>fuel_efficiency_mpg</th>\n",
       "    </tr>\n",
       "  </thead>\n",
       "  <tbody>\n",
       "    <tr>\n",
       "      <th>0</th>\n",
       "      <td>170</td>\n",
       "      <td>3.0</td>\n",
       "      <td>159.0</td>\n",
       "      <td>3413.433759</td>\n",
       "      <td>17.7</td>\n",
       "      <td>2003</td>\n",
       "      <td>Europe</td>\n",
       "      <td>Gasoline</td>\n",
       "      <td>All-wheel drive</td>\n",
       "      <td>0.0</td>\n",
       "      <td>13.231729</td>\n",
       "    </tr>\n",
       "    <tr>\n",
       "      <th>1</th>\n",
       "      <td>130</td>\n",
       "      <td>5.0</td>\n",
       "      <td>97.0</td>\n",
       "      <td>3149.664934</td>\n",
       "      <td>17.8</td>\n",
       "      <td>2007</td>\n",
       "      <td>USA</td>\n",
       "      <td>Gasoline</td>\n",
       "      <td>Front-wheel drive</td>\n",
       "      <td>0.0</td>\n",
       "      <td>13.688217</td>\n",
       "    </tr>\n",
       "    <tr>\n",
       "      <th>2</th>\n",
       "      <td>170</td>\n",
       "      <td>NaN</td>\n",
       "      <td>78.0</td>\n",
       "      <td>3079.038997</td>\n",
       "      <td>15.1</td>\n",
       "      <td>2018</td>\n",
       "      <td>Europe</td>\n",
       "      <td>Gasoline</td>\n",
       "      <td>Front-wheel drive</td>\n",
       "      <td>0.0</td>\n",
       "      <td>14.246341</td>\n",
       "    </tr>\n",
       "    <tr>\n",
       "      <th>3</th>\n",
       "      <td>220</td>\n",
       "      <td>4.0</td>\n",
       "      <td>NaN</td>\n",
       "      <td>2542.392402</td>\n",
       "      <td>20.2</td>\n",
       "      <td>2009</td>\n",
       "      <td>USA</td>\n",
       "      <td>Diesel</td>\n",
       "      <td>All-wheel drive</td>\n",
       "      <td>2.0</td>\n",
       "      <td>16.912736</td>\n",
       "    </tr>\n",
       "    <tr>\n",
       "      <th>4</th>\n",
       "      <td>210</td>\n",
       "      <td>1.0</td>\n",
       "      <td>140.0</td>\n",
       "      <td>3460.870990</td>\n",
       "      <td>14.4</td>\n",
       "      <td>2009</td>\n",
       "      <td>Europe</td>\n",
       "      <td>Gasoline</td>\n",
       "      <td>All-wheel drive</td>\n",
       "      <td>2.0</td>\n",
       "      <td>12.488369</td>\n",
       "    </tr>\n",
       "  </tbody>\n",
       "</table>\n",
       "</div>"
      ],
      "text/plain": [
       "   engine_displacement  num_cylinders  horsepower  vehicle_weight  \\\n",
       "0                  170            3.0       159.0     3413.433759   \n",
       "1                  130            5.0        97.0     3149.664934   \n",
       "2                  170            NaN        78.0     3079.038997   \n",
       "3                  220            4.0         NaN     2542.392402   \n",
       "4                  210            1.0       140.0     3460.870990   \n",
       "\n",
       "   acceleration  model_year  origin fuel_type         drivetrain  num_doors  \\\n",
       "0          17.7        2003  Europe  Gasoline    All-wheel drive        0.0   \n",
       "1          17.8        2007     USA  Gasoline  Front-wheel drive        0.0   \n",
       "2          15.1        2018  Europe  Gasoline  Front-wheel drive        0.0   \n",
       "3          20.2        2009     USA    Diesel    All-wheel drive        2.0   \n",
       "4          14.4        2009  Europe  Gasoline    All-wheel drive        2.0   \n",
       "\n",
       "   fuel_efficiency_mpg  \n",
       "0            13.231729  \n",
       "1            13.688217  \n",
       "2            14.246341  \n",
       "3            16.912736  \n",
       "4            12.488369  "
      ]
     },
     "execution_count": 5,
     "metadata": {},
     "output_type": "execute_result"
    }
   ],
   "source": [
    "df.head()"
   ]
  },
  {
   "cell_type": "code",
   "execution_count": 6,
   "id": "eac2f68a-6097-40ee-b572-06019e235b60",
   "metadata": {},
   "outputs": [
    {
     "name": "stdout",
     "output_type": "stream",
     "text": [
      "Unique fuel types: 2\n"
     ]
    }
   ],
   "source": [
    "print(\"Unique fuel types:\", df['fuel_type'].nunique())"
   ]
  },
  {
   "cell_type": "markdown",
   "id": "fc9e9493-2874-47ce-9589-3b3a48144ad1",
   "metadata": {},
   "source": [
    "## Q4. Missing values\n"
   ]
  },
  {
   "cell_type": "markdown",
   "id": "858c790a-92fd-45b8-9719-4a08c7dc567b",
   "metadata": {},
   "source": [
    "How many columns in the dataset have missing values?"
   ]
  },
  {
   "cell_type": "code",
   "execution_count": 7,
   "id": "ac852153-9fbf-4ea7-a073-21a8c983f0dc",
   "metadata": {},
   "outputs": [
    {
     "name": "stdout",
     "output_type": "stream",
     "text": [
      "Number of columns with missing values: 4\n"
     ]
    }
   ],
   "source": [
    "print(\"Number of columns with missing values:\", df.isnull().any().sum())\n"
   ]
  },
  {
   "cell_type": "markdown",
   "id": "9791a806-6b38-4c45-a23d-12d2faabdad7",
   "metadata": {},
   "source": [
    "## Q5. Max fuel efficiency\n"
   ]
  },
  {
   "cell_type": "markdown",
   "id": "90dbaddc-17f1-4d42-8612-c86ec498283d",
   "metadata": {},
   "source": [
    "What's the maximum fuel efficiency of cars from Asia?"
   ]
  },
  {
   "cell_type": "code",
   "execution_count": 8,
   "id": "6fae6110-0163-4cbe-9c1d-7194e951aff2",
   "metadata": {},
   "outputs": [],
   "source": [
    "asia_max_eff = df[df['origin'] == 'Asia']['fuel_efficiency_mpg'].max()\n"
   ]
  },
  {
   "cell_type": "code",
   "execution_count": 9,
   "id": "2d2a2e77-6ed5-40c9-bc74-ecffd7807be3",
   "metadata": {},
   "outputs": [
    {
     "name": "stdout",
     "output_type": "stream",
     "text": [
      "Max fuel efficiency (Asia): 23.759122836520497\n"
     ]
    }
   ],
   "source": [
    "print(\"Max fuel efficiency (Asia):\", asia_max_eff)"
   ]
  },
  {
   "cell_type": "markdown",
   "id": "d9b6136b-29ed-42dc-94e4-15bdf4d70d64",
   "metadata": {},
   "source": [
    "## Q6. Median value of horsepower\n"
   ]
  },
  {
   "cell_type": "markdown",
   "id": "23601b6b-91b5-4804-b000-fdc513795f3a",
   "metadata": {},
   "source": [
    "1. Find the median value of the horsepower column in the dataset.\n",
    "2. Next, calculate the most frequent value of the same horsepower column.\n",
    "3. Use the fillna method to fill the missing values in the horsepower column with the most frequent value from the previous step.\n",
    "4. Now, calculate the median value of horsepower once again.\n",
    "\n",
    "Has it changed?"
   ]
  },
  {
   "cell_type": "code",
   "execution_count": 10,
   "id": "f3749ac5-2813-4630-9b56-1e1fda03c45d",
   "metadata": {},
   "outputs": [],
   "source": [
    "median_hp_before = df['horsepower'].median()\n",
    "mode_hp = df['horsepower'].mode()[0]\n",
    "\n",
    "# Fill missing values with most frequent value\n",
    "df['horsepower'] = df['horsepower'].fillna(mode_hp)\n",
    "median_hp_after = df['horsepower'].median()\n"
   ]
  },
  {
   "cell_type": "code",
   "execution_count": 11,
   "id": "35a35e22-4cbd-48fa-a0ee-72c691adbf9e",
   "metadata": {},
   "outputs": [
    {
     "data": {
      "text/plain": [
       "np.float64(152.0)"
      ]
     },
     "execution_count": 11,
     "metadata": {},
     "output_type": "execute_result"
    }
   ],
   "source": [
    "mode_hp"
   ]
  },
  {
   "cell_type": "code",
   "execution_count": 12,
   "id": "9ce00d94-c1e0-4291-b429-eca167a6741e",
   "metadata": {},
   "outputs": [
    {
     "name": "stdout",
     "output_type": "stream",
     "text": [
      "Median horsepower (before): 149.0\n",
      "Most frequent horsepower: 152.0\n",
      "Median horsepower (after fillna): 152.0\n",
      "Has median changed?: Yes, it increased\n"
     ]
    }
   ],
   "source": [
    "\n",
    "print(\"Median horsepower (before):\", median_hp_before)\n",
    "print(\"Most frequent horsepower:\", mode_hp)\n",
    "print(\"Median horsepower (after fillna):\", median_hp_after)\n",
    "print(\"Has median changed?:\", \n",
    "      \"Yes, it increased\" if median_hp_after > median_hp_before \n",
    "      else \"Yes, it decreased\" if median_hp_after < median_hp_before \n",
    "      else \"No\")"
   ]
  },
  {
   "cell_type": "markdown",
   "id": "7d373d78-0263-4d74-8e1d-9d7d057d2a1c",
   "metadata": {},
   "source": [
    "## Q7. Sum of weights\n"
   ]
  },
  {
   "cell_type": "code",
   "execution_count": 13,
   "id": "10815bea-20ad-477f-86d5-68bbdb500270",
   "metadata": {},
   "outputs": [
    {
     "name": "stdout",
     "output_type": "stream",
     "text": [
      "w: [0.01386421 0.5049067 ]\n",
      "Sum of w: 0.5187709081074016\n"
     ]
    }
   ],
   "source": [
    "import numpy as np\n",
    "\n",
    "df_asia = df[df['origin'] == 'Asia'][['vehicle_weight', 'model_year']].head(7)\n",
    "X = df_asia.values\n",
    "XTX = X.T.dot(X)\n",
    "XTX_inv = np.linalg.inv(XTX)\n",
    "\n",
    "y = np.array([1100, 1300, 800, 900, 1000, 1100, 1200])\n",
    "\n",
    "w = XTX_inv.dot(X.T).dot(y)\n",
    "print(\"w:\", w)\n",
    "print(\"Sum of w:\", w.sum())"
   ]
  },
  {
   "cell_type": "code",
   "execution_count": 15,
   "id": "9bbc5859-1d89-437c-a368-64f321fc1851",
   "metadata": {},
   "outputs": [
    {
     "name": "stdout",
     "output_type": "stream",
     "text": [
      "[NbConvertApp] Converting notebook ./hw1/hw1.ipynb to script\n",
      "[NbConvertApp] Writing 2770 bytes to hw1/hw1.py\n"
     ]
    }
   ],
   "source": [
    "!jupyter nbconvert --to script ./hw1/hw1.ipynb\n"
   ]
  },
  {
   "cell_type": "code",
   "execution_count": null,
   "id": "311033fd-0b63-4e04-a6b5-3ab3ffe147a6",
   "metadata": {},
   "outputs": [],
   "source": []
  },
  {
   "cell_type": "code",
   "execution_count": null,
   "id": "a7b8deb0-961e-4ab4-9459-7316d30380ee",
   "metadata": {},
   "outputs": [],
   "source": []
  },
  {
   "cell_type": "code",
   "execution_count": null,
   "id": "fc98b628-0748-4fcb-a228-eadacd43314a",
   "metadata": {},
   "outputs": [],
   "source": []
  },
  {
   "cell_type": "code",
   "execution_count": null,
   "id": "82e03b24-2e37-4834-ab1f-61e10463750f",
   "metadata": {},
   "outputs": [],
   "source": []
  },
  {
   "cell_type": "code",
   "execution_count": null,
   "id": "b05c9678-3cd9-4cd2-afe7-c3f46c2fb69b",
   "metadata": {},
   "outputs": [],
   "source": []
  }
 ],
 "metadata": {
  "kernelspec": {
   "display_name": "Python 3 (ipykernel)",
   "language": "python",
   "name": "python3"
  },
  "language_info": {
   "codemirror_mode": {
    "name": "ipython",
    "version": 3
   },
   "file_extension": ".py",
   "mimetype": "text/x-python",
   "name": "python",
   "nbconvert_exporter": "python",
   "pygments_lexer": "ipython3",
   "version": "3.11.13"
  }
 },
 "nbformat": 4,
 "nbformat_minor": 5
}
